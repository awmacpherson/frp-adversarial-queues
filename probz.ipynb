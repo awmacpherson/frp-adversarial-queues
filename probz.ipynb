{
 "cells": [
  {
   "cell_type": "code",
   "execution_count": null,
   "id": "e513afe3",
   "metadata": {},
   "outputs": [],
   "source": [
    "import matplotlib as mpl\n",
    "import matplotlib.pyplot as plt\n",
    "import numpy as np\n",
    "rng = np.random.default_rng(seed=947)\n",
    "import pandas as pd\n",
    "import math"
   ]
  },
  {
   "cell_type": "code",
   "execution_count": null,
   "id": "c11f3bc8",
   "metadata": {},
   "outputs": [],
   "source": [
    "ABS_TOL = 1e-6\n",
    "ASSETS_PATH = \"assets\""
   ]
  },
  {
   "cell_type": "code",
   "execution_count": null,
   "id": "bf4db041",
   "metadata": {},
   "outputs": [],
   "source": [
    "from numpy.polynomial import Polynomial\n",
    "\n",
    "def chi(r, beta=200): # r = mu/lambda = intensity * beta\n",
    "    coef = np.zeros(beta+2) # degree beta+1\n",
    "    coef[0] = r\n",
    "    coef[1] = -r-1\n",
    "    coef[-1] = 1\n",
    "    return Polynomial(coef)\n",
    "\n",
    "def prob_queue_nonempty(r, beta=200):\n",
    "    roots = chi(r,beta).roots()\n",
    "    roots_disk = roots[np.abs(roots)<1-ABS_TOL]\n",
    "    try:\n",
    "        return roots_disk.item().real\n",
    "    except ValueError:\n",
    "        print(f\"More than one root found: {roots_disk}\")\n",
    "        raise\n",
    "\n",
    "def prob_next_block(r, beta=200):\n",
    "    return 1 - (prob_queue_nonempty(r,beta)**beta)"
   ]
  },
  {
   "cell_type": "code",
   "execution_count": null,
   "id": "53f04aed",
   "metadata": {},
   "outputs": [],
   "source": [
    "r = np.arange(0, 199)\n",
    "p = np.zeros(199)\n",
    "for i in range(199):\n",
    "    try:\n",
    "        p[i] = prob_next_block(r[i])\n",
    "    except ValueError:\n",
    "        continue"
   ]
  },
  {
   "cell_type": "code",
   "execution_count": null,
   "id": "f191a6f3",
   "metadata": {},
   "outputs": [],
   "source": [
    "plt.plot(r,p, label=\"p=Prob(N>0)\")\n",
    "plt.plot(r, 1-(1/(1+1/r))**200, label=\"p=λ/(λ+μ)\")\n",
    "plt.legend()\n",
    "plt.xlabel(\"λ/μ\")\n",
    "plt.ylabel(\"ℙ(o ∈ B₀)\")\n",
    "plt.title(\"Inclusion probability, β=200\")\n",
    "plt.savefig(f\"{ASSETS_PATH}/inclusion-probz.eps\")"
   ]
  },
  {
   "cell_type": "code",
   "execution_count": null,
   "id": "47f89162",
   "metadata": {},
   "outputs": [],
   "source": [
    "def f_K(r, beta=200):\n",
    "    p = prob_queue_nonempty(r,beta)\n",
    "    Z = sum(p**np.arange(beta))\n",
    "    return p**np.arange(beta) / Z"
   ]
  },
  {
   "cell_type": "code",
   "execution_count": null,
   "id": "25813557",
   "metadata": {},
   "outputs": [],
   "source": [
    "k=np.arange(200)\n",
    "plt.plot(k, f_K(30), label=\"λ/μ=30\")\n",
    "plt.plot(k, f_K(70), label=\"λ/μ=70\")\n",
    "plt.plot(k, f_K(100), label=\"λ/μ=100\")\n",
    "plt.legend()\n",
    "plt.xlabel(\"k\")\n",
    "plt.ylabel(\"ℙ(K=k)\")\n",
    "plt.title(\"Position distribution given K'=0, β=200\")\n",
    "plt.savefig(f\"{ASSETS_PATH}/position-probz.eps\")"
   ]
  },
  {
   "cell_type": "code",
   "execution_count": null,
   "id": "dca46e63",
   "metadata": {},
   "outputs": [],
   "source": [
    "def sample_one(L, r, beta=200):\n",
    "    p = prob_queue_nonempty(r, beta)\n",
    "    N = rng.geometric(1-prob_queue_nonempty(r)) # parameter is success probability\n",
    "    if N < beta:\n",
    "        K = N # first block\n",
    "    else: \n",
    "        q = 1/(1+r)\n",
    "        \n",
    "        P_beta = (1-p)*sum((p**i)*(1-q**(beta-i)) for i in range(beta)) # prob(B_{n+1} nonfull given B_n full)\n",
    "        block = rng.geometric(P_beta) + 1\n",
    "        \n",
    "        # compute probabilities\n",
    "        P_k = [(1-p)*(1-q)*sum((p**i)*(q**(k-i)) for i in range(k+1)) /P_beta  for k in range(beta)]\n",
    "        pos = rng.choice(np.arange(beta), p=P_k)\n",
    "        \n",
    "        K = beta*block + pos\n",
    "        \n",
    "    #return K\n",
    "        \n",
    "    return rng.uniform(-L,L,size=K).sum()\n",
    "\n",
    "phi0 = (10,10)\n",
    "\n",
    "def compute_state(phi0, X):\n",
    "    lam = phi0[0]*phi0[1]\n",
    "    return phi0[0]+X, lam/(phi0[0]+X)\n",
    "\n",
    "def sample_reserves(phi0, L, r, num_samples=50):\n",
    "    reserves = [compute_state(phi0, sample_one(L,r)) for _ in range(num_samples)]\n",
    "    start_price = phi0[0]/phi0[1]\n",
    "    end_prices = [res[0]/res[1] for res in reserves]\n",
    "#    slippage = (end_price/start_price - 1 for end_price in end_prices)\n",
    "    return reserves, end_prices"
   ]
  },
  {
   "cell_type": "code",
   "execution_count": null,
   "id": "0ce06956",
   "metadata": {},
   "outputs": [],
   "source": [
    "reserves, prices = zip(*[\n",
    "    sample_reserves((100,100), 1, 30),\n",
    "    sample_reserves((120,120), 0.1, 12),\n",
    "    sample_reserves((50,150), 1, 4),\n",
    "    sample_reserves((35,25), 1, 1),\n",
    "])"
   ]
  },
  {
   "cell_type": "code",
   "execution_count": null,
   "id": "3bc48167",
   "metadata": {},
   "outputs": [],
   "source": [
    "price_mean = [sum(price)/len(price) for price in prices]\n",
    "price_stddev = [math.sqrt(sum((p-mean)*(p-mean) for p in price)/len(price)) for price, mean in zip(prices, price_mean)]\n",
    "price_cv = [100 * stddev / mean for mean, stddev in zip(price_mean, price_stddev)]\n",
    "\n",
    "def write_cv(val, desc):\n",
    "    with open(f\"assets/{desc}\", \"w\") as fd:\n",
    "        fd.write(f\"${val:.2f}\\%$\")\n",
    "\n",
    "write_cv(price_cv[0], \"cv_100_100_1_30\")\n",
    "write_cv(price_cv[1], \"cv_120_120_0.1_12\")\n",
    "write_cv(price_cv[2], \"cv_50_150_1_4\")\n",
    "write_cv(price_cv[3], \"cv_35_25_1_1\")"
   ]
  },
  {
   "cell_type": "code",
   "execution_count": null,
   "id": "662f0267",
   "metadata": {},
   "outputs": [],
   "source": [
    "plt.scatter(*zip(*reserves[0]), s=0.2, color=\"orange\", label=\"ϕ₀=(100,100), L=1, λ/μ=30\")\n",
    "plt.scatter(*zip(*reserves[1]), s=0.2, color=\"purple\", label=\"ϕ₀=(120,120), L=0.1, λ/μ=12\")\n",
    "plt.scatter(*zip(*reserves[2]), s=0.2, color=\"green\", label=\"ϕ₀=(50,150), L=1, λ/μ=4\")\n",
    "plt.scatter(*zip(*reserves[3]), s=0.2, color=\"brown\", label=\"ϕ₀=(35,25), L=1, λ/μ=1\")\n",
    "plt.xlim([0,300])\n",
    "plt.ylim([0,200])\n",
    "plt.legend()\n",
    "plt.gca().set_aspect(\"equal\")\n",
    "plt.savefig(f\"{ASSETS_PATH}/reserves.eps\")"
   ]
  }
 ],
 "metadata": {
  "kernelspec": {
   "display_name": "Python 3",
   "language": "python",
   "name": "python3"
  },
  "language_info": {
   "codemirror_mode": {
    "name": "ipython",
    "version": 3
   },
   "file_extension": ".py",
   "mimetype": "text/x-python",
   "name": "python",
   "nbconvert_exporter": "python",
   "pygments_lexer": "ipython3",
   "version": "3.9.4"
  }
 },
 "nbformat": 4,
 "nbformat_minor": 5
}
